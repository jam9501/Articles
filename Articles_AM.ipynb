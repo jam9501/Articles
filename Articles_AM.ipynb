{
 "cells": [
  {
   "cell_type": "markdown",
   "id": "dc8b1948-d685-430c-8d58-a1407687ac89",
   "metadata": {},
   "source": [
    "# Oklahoma Watch articles:"
   ]
  },
  {
   "cell_type": "markdown",
   "id": "ad63fc26-e3f6-4857-844f-381be85487d4",
   "metadata": {},
   "source": [
    " ### [Most Oklahoma Jails Failed Health Department Inspections in 2022](https://oklahomawatch.org/2023/07/12/most-oklahoma-jails-failed-health-department-inspections-in-2022/)"
   ]
  },
  {
   "cell_type": "markdown",
   "id": "26a3a25a-57fa-473b-9d99-de3134da3ed0",
   "metadata": {},
   "source": [
    "### Others: https://oklahomawatch.org/author/amartinez/\n"
   ]
  },
  {
   "cell_type": "markdown",
   "id": "1d76ab90-ca62-4897-9e70-bb6d0c3c361e",
   "metadata": {},
   "source": [
    "# The Oklahoman articles: "
   ]
  },
  {
   "cell_type": "markdown",
   "id": "4ebe1128-2fdc-487a-b0f6-907ca5663b9d",
   "metadata": {},
   "source": [
    "### Full Circle Bookstore providing interactive experiences for readers for 50 years: https://www.oklahoman.com/story/lifestyle/features/2022/06/19/full-circle-books-okc-survives-e-book-boom-pandemic-celebrate-50-years-50-penn-place/7610865001/"
   ]
  },
  {
   "cell_type": "markdown",
   "id": "67200a1b-bfbc-4d15-a407-8cdca5fbff62",
   "metadata": {},
   "source": [
    "### Others: https://www.oklahoman.com/staff/7468502001/ainsley-martinez/"
   ]
  },
  {
   "cell_type": "markdown",
   "id": "afe01775-7427-4f39-9b68-b4ede812c40b",
   "metadata": {},
   "source": [
    "# The Vista articles: "
   ]
  },
  {
   "cell_type": "markdown",
   "id": "839f8783-739c-4bc8-85a1-c2e7f5e94bd5",
   "metadata": {},
   "source": [
    "### Closed door policy: https://ucentralmedia.com/closed-door-policy/"
   ]
  },
  {
   "cell_type": "markdown",
   "id": "a699f7cb-d72a-4e84-95b7-ddb231d2d655",
   "metadata": {},
   "source": [
    "### UCO under pressure: https://ucentralmedia.com/uco-under-pressure/"
   ]
  },
  {
   "cell_type": "markdown",
   "id": "a1b5b988-697c-40b7-a3d8-44bcf9d59016",
   "metadata": {},
   "source": [
    "### Buss up for promotion during Title IX investigation: https://ucentralmedia.com/buss-up-for-promotion-during-title-ix-investigation/"
   ]
  },
  {
   "cell_type": "markdown",
   "id": "1001de26-5b6b-4337-ba7d-d8b3949c1630",
   "metadata": {},
   "source": [
    "### Others: https://ucentralmedia.com/author/jmartinez/"
   ]
  },
  {
   "cell_type": "markdown",
   "id": "5949acdc-e7e0-4dfc-a3ea-83e4146ae6fb",
   "metadata": {},
   "source": [
    "# Poptized articles:"
   ]
  },
  {
   "cell_type": "markdown",
   "id": "9bfeea7a-477c-480a-993f-bf8a36da01df",
   "metadata": {},
   "source": [
    "### The beautiful poetics of Florence + the Machine's \"High as Hope\": https://issuu.com/poptized/docs/issue_1/46"
   ]
  },
  {
   "cell_type": "markdown",
   "id": "b24e713f-8aba-49ab-ba49-fbf400d0dd66",
   "metadata": {},
   "source": [
    "### Danny & Alex: https://issuu.com/poptized/docs/issuefour/16"
   ]
  }
 ],
 "metadata": {
  "kernelspec": {
   "display_name": "Python 3 (ipykernel)",
   "language": "python",
   "name": "python3"
  },
  "language_info": {
   "codemirror_mode": {
    "name": "ipython",
    "version": 3
   },
   "file_extension": ".py",
   "mimetype": "text/x-python",
   "name": "python",
   "nbconvert_exporter": "python",
   "pygments_lexer": "ipython3",
   "version": "3.11.8"
  }
 },
 "nbformat": 4,
 "nbformat_minor": 5
}
